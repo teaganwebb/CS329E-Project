{
 "cells": [
  {
   "cell_type": "markdown",
   "metadata": {},
   "source": [
    "# Data Exploration"
   ]
  },
  {
   "cell_type": "code",
   "execution_count": 93,
   "metadata": {},
   "outputs": [],
   "source": [
    "import pandas as pd\n",
    "from pandas import Series, DataFrame\n",
    "import numpy as np\n",
    "\n",
    "import matplotlib.pyplot as plt\n",
    "\n",
    "import math"
   ]
  },
  {
   "cell_type": "code",
   "execution_count": 9,
   "metadata": {
    "scrolled": true
   },
   "outputs": [
    {
     "name": "stdout",
     "output_type": "stream",
     "text": [
      "  death = 1\n",
      "1         1\n",
      "2         1\n",
      "3         1\n",
      "4         1\n",
      "5         1\n"
     ]
    },
    {
     "data": {
      "text/html": [
       "<div>\n",
       "<style scoped>\n",
       "    .dataframe tbody tr th:only-of-type {\n",
       "        vertical-align: middle;\n",
       "    }\n",
       "\n",
       "    .dataframe tbody tr th {\n",
       "        vertical-align: top;\n",
       "    }\n",
       "\n",
       "    .dataframe thead th {\n",
       "        text-align: right;\n",
       "    }\n",
       "</style>\n",
       "<table border=\"1\" class=\"dataframe\">\n",
       "  <thead>\n",
       "    <tr style=\"text-align: right;\">\n",
       "      <th></th>\n",
       "      <th>age</th>\n",
       "      <th>sex</th>\n",
       "      <th>Alb</th>\n",
       "      <th>PLT</th>\n",
       "      <th>WBC</th>\n",
       "      <th>CRP</th>\n",
       "      <th>APACHE II</th>\n",
       "      <th>SOFA</th>\n",
       "      <th>McCabe</th>\n",
       "      <th>PaO2/FiO2</th>\n",
       "      <th>LDH</th>\n",
       "      <th>CT score</th>\n",
       "      <th>PEEP</th>\n",
       "      <th>PIP</th>\n",
       "      <th>TV</th>\n",
       "      <th>DARDS = 1</th>\n",
       "      <th>days</th>\n",
       "      <th>days</th>\n",
       "      <th>ventilator weaning = 1</th>\n",
       "      <th>VFD</th>\n",
       "    </tr>\n",
       "  </thead>\n",
       "  <tbody>\n",
       "    <tr>\n",
       "      <td>1</td>\n",
       "      <td>79</td>\n",
       "      <td>M</td>\n",
       "      <td>2.3</td>\n",
       "      <td>10.8</td>\n",
       "      <td>4000</td>\n",
       "      <td>17.8</td>\n",
       "      <td>24</td>\n",
       "      <td>8</td>\n",
       "      <td>1</td>\n",
       "      <td>108</td>\n",
       "      <td>339</td>\n",
       "      <td>191.6</td>\n",
       "      <td>24</td>\n",
       "      <td>n.d.</td>\n",
       "      <td>n.d.</td>\n",
       "      <td>0</td>\n",
       "      <td>21</td>\n",
       "      <td>28</td>\n",
       "      <td>0</td>\n",
       "      <td>0</td>\n",
       "    </tr>\n",
       "    <tr>\n",
       "      <td>2</td>\n",
       "      <td>83</td>\n",
       "      <td>M</td>\n",
       "      <td>4.4</td>\n",
       "      <td>13.5</td>\n",
       "      <td>10200</td>\n",
       "      <td>8.9</td>\n",
       "      <td>16</td>\n",
       "      <td>6</td>\n",
       "      <td>1</td>\n",
       "      <td>78</td>\n",
       "      <td>385</td>\n",
       "      <td>213.3</td>\n",
       "      <td>5</td>\n",
       "      <td>10</td>\n",
       "      <td>360</td>\n",
       "      <td>0</td>\n",
       "      <td>21</td>\n",
       "      <td>28</td>\n",
       "      <td>0</td>\n",
       "      <td>0</td>\n",
       "    </tr>\n",
       "    <tr>\n",
       "      <td>3</td>\n",
       "      <td>70</td>\n",
       "      <td>M</td>\n",
       "      <td>2.7</td>\n",
       "      <td>10.8</td>\n",
       "      <td>5300</td>\n",
       "      <td>25.3</td>\n",
       "      <td>22</td>\n",
       "      <td>7</td>\n",
       "      <td>1</td>\n",
       "      <td>70.9</td>\n",
       "      <td>461</td>\n",
       "      <td>221.7</td>\n",
       "      <td>18</td>\n",
       "      <td>24</td>\n",
       "      <td>525</td>\n",
       "      <td>0</td>\n",
       "      <td>8</td>\n",
       "      <td>28</td>\n",
       "      <td>0</td>\n",
       "      <td>0</td>\n",
       "    </tr>\n",
       "    <tr>\n",
       "      <td>4</td>\n",
       "      <td>61</td>\n",
       "      <td>M</td>\n",
       "      <td>3.3</td>\n",
       "      <td>8.8</td>\n",
       "      <td>1800</td>\n",
       "      <td>22.2</td>\n",
       "      <td>26</td>\n",
       "      <td>7</td>\n",
       "      <td>1</td>\n",
       "      <td>59.2</td>\n",
       "      <td>227</td>\n",
       "      <td>211.6</td>\n",
       "      <td>10</td>\n",
       "      <td>24</td>\n",
       "      <td>480</td>\n",
       "      <td>0</td>\n",
       "      <td>11</td>\n",
       "      <td>28</td>\n",
       "      <td>0</td>\n",
       "      <td>0</td>\n",
       "    </tr>\n",
       "    <tr>\n",
       "      <td>5</td>\n",
       "      <td>81</td>\n",
       "      <td>M</td>\n",
       "      <td>3.1</td>\n",
       "      <td>26.2</td>\n",
       "      <td>10600</td>\n",
       "      <td>17</td>\n",
       "      <td>19</td>\n",
       "      <td>4</td>\n",
       "      <td>1</td>\n",
       "      <td>83.6</td>\n",
       "      <td>680</td>\n",
       "      <td>234.9</td>\n",
       "      <td>5</td>\n",
       "      <td>10</td>\n",
       "      <td>625</td>\n",
       "      <td>0</td>\n",
       "      <td>6</td>\n",
       "      <td>28</td>\n",
       "      <td>0</td>\n",
       "      <td>0</td>\n",
       "    </tr>\n",
       "  </tbody>\n",
       "</table>\n",
       "</div>"
      ],
      "text/plain": [
       "0 age sex  Alb   PLT    WBC   CRP APACHE II SOFA McCabe PaO2/FiO2  LDH  \\\n",
       "1  79   M  2.3  10.8   4000  17.8        24    8      1       108  339   \n",
       "2  83   M  4.4  13.5  10200   8.9        16    6      1        78  385   \n",
       "3  70   M  2.7  10.8   5300  25.3        22    7      1      70.9  461   \n",
       "4  61   M  3.3   8.8   1800  22.2        26    7      1      59.2  227   \n",
       "5  81   M  3.1  26.2  10600    17        19    4      1      83.6  680   \n",
       "\n",
       "0 CT score PEEP   PIP    TV DARDS = 1 days days ventilator weaning = 1 VFD   \n",
       "1    191.6   24  n.d.  n.d.         0   21   28                      0    0  \n",
       "2    213.3    5    10   360         0   21   28                      0    0  \n",
       "3    221.7   18    24   525         0    8   28                      0    0  \n",
       "4    211.6   10    24   480         0   11   28                      0    0  \n",
       "5    234.9    5    10   625         0    6   28                      0    0  "
      ]
     },
     "execution_count": 9,
     "metadata": {},
     "output_type": "execute_result"
    }
   ],
   "source": [
    "address = \"C:/Users/tbweb/Documents/CS329E/Project/data.csv\"\n",
    "file = pd.read_csv(address)\n",
    "\n",
    "data_X = pd.DataFrame(file.iloc[1:198,1:21])\n",
    "data_X.columns = file.iloc[0,1:21]\n",
    "data_Y = pd.DataFrame(file.iloc[1:198,21])\n",
    "data_Y.columns = ['death = 1']\n",
    "print(data_Y.head())\n",
    "data_X.head()"
   ]
  },
  {
   "cell_type": "code",
   "execution_count": 94,
   "metadata": {},
   "outputs": [],
   "source": [
    "# Convert to ints or floats\n",
    "#for col in data_X: \n",
    "#    if col != \"sex\": \n",
    "#        data_X[col] = data_X[col].astype(float)\n",
    "### SOS I need cleaned data"
   ]
  },
  {
   "cell_type": "markdown",
   "metadata": {},
   "source": [
    "### Class Label Distribution"
   ]
  },
  {
   "cell_type": "code",
   "execution_count": 15,
   "metadata": {},
   "outputs": [
    {
     "name": "stdout",
     "output_type": "stream",
     "text": [
      "Death = 1: 69\n",
      "Death = 0: 128\n"
     ]
    }
   ],
   "source": [
    "print(\"Death = 1:\", sum(data_Y[\"death = 1\"] == '1'))\n",
    "print(\"Death = 0:\", sum(data_Y[\"death = 1\"] == '0'))"
   ]
  },
  {
   "cell_type": "markdown",
   "metadata": {},
   "source": [
    "### Mean, Median, Max, Min, Range, Standard Deviation in a Table"
   ]
  },
  {
   "cell_type": "code",
   "execution_count": 95,
   "metadata": {},
   "outputs": [
    {
     "name": "stdout",
     "output_type": "stream",
     "text": [
      "column       mean  median     max     min   range      SD\n"
     ]
    }
   ],
   "source": [
    "# print mean, median, max\n",
    "print('{:>5}'.format(\"column\"), '{:>10}'.format(\"mean\"), '{:>7}'.format(\"median\"), '{:>7}'.format(\"max\"), '{:>7}'.format(\"min\"), \n",
    "     '{:>7}'.format(\"range\"), '{:>7}'.format(\"SD\"))\n",
    "for col in data_X: \n",
    "    #print(col, end = \"\")\n",
    "    if col != \"sex\":\n",
    "        pass\n",
    "        #maxm = data_X[col].max()\n",
    "        #minm = data_X[col].min()\n",
    "        #print('{:>17}'.format(math.trunc(data_X[col].mean())), end = \"\")\n",
    "        #print('{:>7}'.format(math.trunc(data_X[col].median())), end = \"\")\n",
    "        #print('{:>8}'.format(math.trunc(maxm)), end = \"\")\n",
    "        #print('{:>7}'.format(math.trunc(minm)), end = \"\")\n",
    "        #print('{:>7}'.format(math.trunc(maxm-minm))) #range\n",
    "        #print('{:>7}'.format(math.trunc(data_X[col].np.sd())))\n"
   ]
  },
  {
   "cell_type": "markdown",
   "metadata": {},
   "source": [
    "### Age"
   ]
  },
  {
   "cell_type": "code",
   "execution_count": 107,
   "metadata": {},
   "outputs": [
    {
     "name": "stdout",
     "output_type": "stream",
     "text": [
      "AxesSubplot(0.125,0.125;0.775x0.755)\n",
      "\n",
      "feature description: age in years\n",
      "mean: 73\n",
      "median: 76\n",
      "max: 97\n",
      "min: 19\n",
      "range: 78\n",
      "variance 142\n",
      "standard deviation 11\n",
      "number of outliers: a lot\n"
     ]
    },
    {
     "data": {
      "image/png": "[encoded data removed]",
      "text/plain": [
       "<Figure size 432x288 with 1 Axes>"
      ]
     },
     "metadata": {
      "needs_background": "light"
     },
     "output_type": "display_data"
    }
   ],
   "source": [
    "print(data_X.boxplot('age'))\n",
    "print('\\nfeature description:', \"age in years\")\n",
    "maxm = data_X['age'].max()\n",
    "minm = data_X['age'].min()\n",
    "print('mean:', math.trunc(data_X['age'].mean()))\n",
    "print('median:', math.trunc(data_X['age'].median()))\n",
    "print('max:', math.trunc(maxm))\n",
    "print('min:', math.trunc(minm))\n",
    "print('range:', math.trunc(maxm-minm))\n",
    "print('variance', math.trunc(data_X['age'].var()))\n",
    "print('standard deviation', math.trunc(data_X['age'].std()))\n",
    "print('number of outliers:', 'a lot')"
   ]
  },
  {
   "cell_type": "markdown",
   "metadata": {},
   "source": [
    "### Sex"
   ]
  },
  {
   "cell_type": "code",
   "execution_count": 91,
   "metadata": {},
   "outputs": [
    {
     "name": "stdout",
     "output_type": "stream",
     "text": [
      "Male: 123\n",
      "Female: 74\n"
     ]
    }
   ],
   "source": [
    "print(\"Male:\", sum(data_X[\"sex\"] == 'M'))\n",
    "print(\"Female:\", sum(data_X[\"sex\"] == 'F'))"
   ]
  },
  {
   "cell_type": "markdown",
   "metadata": {},
   "source": [
    "### Alb"
   ]
  },
  {
   "cell_type": "code",
   "execution_count": 103,
   "metadata": {},
   "outputs": [
    {
     "name": "stdout",
     "output_type": "stream",
     "text": [
      "AxesSubplot(0.125,0.125;0.775x0.755)\n",
      "\n",
      "feature description: \n",
      "mean: 2\n",
      "median: 2\n",
      "max: 4\n",
      "min: 1\n",
      "range: 3\n",
      "variance 0\n",
      "standard deviation 0\n",
      "number of outliers:\n"
     ]
    },
    {
     "data": {
      "image/png": "[encoded data removed]",
      "text/plain": [
       "<Figure size 432x288 with 1 Axes>"
      ]
     },
     "metadata": {
      "needs_background": "light"
     },
     "output_type": "display_data"
    }
   ],
   "source": [
    "print(data_X.boxplot('Alb'))\n",
    "print('\\nfeature description:', \"\")\n",
    "maxm = data_X['Alb'].max()\n",
    "minm = data_X['Alb'].min()\n",
    "print('mean:', math.trunc(data_X['Alb'].mean()))\n",
    "print('median:', math.trunc(data_X['Alb'].median()))\n",
    "print('max:', math.trunc(maxm))\n",
    "print('min:', math.trunc(minm))\n",
    "print('range:', math.trunc(maxm-minm))\n",
    "print('variance', math.trunc(data_X['Alb'].var()))\n",
    "print('standard deviation', math.trunc(data_X['Alb'].std()))\n",
    "print('number of outliers:', '4')"
   ]
  },
  {
   "cell_type": "markdown",
   "metadata": {},
   "source": [
    "### PLT"
   ]
  },
  {
   "cell_type": "code",
   "execution_count": 105,
   "metadata": {},
   "outputs": [
    {
     "name": "stdout",
     "output_type": "stream",
     "text": [
      "AxesSubplot(0.125,0.125;0.775x0.755)\n",
      "\n",
      "feature description: \n",
      "mean: 19\n",
      "median: 18\n",
      "max: 57\n",
      "min: 0\n",
      "range: 57\n",
      "variance 111\n",
      "standard deviation 10\n",
      "number of outliers:\n"
     ]
    },
    {
     "data": {
      "image/png": "[encoded data removed]",
      "text/plain": [
       "<Figure size 432x288 with 1 Axes>"
      ]
     },
     "metadata": {
      "needs_background": "light"
     },
     "output_type": "display_data"
    }
   ],
   "source": [
    "print(data_X.boxplot('PLT'))\n",
    "print('\\nfeature description:', \"\")\n",
    "maxm = data_X['PLT'].max()\n",
    "minm = data_X['PLT'].min()\n",
    "print('mean:', math.trunc(data_X['PLT'].mean()))\n",
    "print('median:', math.trunc(data_X['PLT'].median()))\n",
    "print('max:', math.trunc(maxm))\n",
    "print('min:', math.trunc(minm))\n",
    "print('range:', math.trunc(maxm-minm))\n",
    "print('variance', math.trunc(data_X['PLT'].var()))\n",
    "print('standard deviation', math.trunc(data_X['PLT'].std()))\n",
    "print('number of outliers:', '2')"
   ]
  },
  {
   "cell_type": "markdown",
   "metadata": {},
   "source": [
    "### Bivariate Analysis"
   ]
  },
  {
   "cell_type": "code",
   "execution_count": 110,
   "metadata": {},
   "outputs": [
    {
     "data": {
      "text/plain": [
       "<matplotlib.axes._subplots.AxesSubplot at 0x23b739c5348>"
      ]
     },
     "execution_count": 110,
     "metadata": {},
     "output_type": "execute_result"
    },
    {
     "data": {
      "image/png": "[encoded data removed]",
      "text/plain": [
       "<Figure size 432x288 with 1 Axes>"
      ]
     },
     "metadata": {
      "needs_background": "light"
     },
     "output_type": "display_data"
    }
   ],
   "source": [
    "data_X.plot(x = \"age\", y = \"PLT\", kind = \"scatter\")"
   ]
  },
  {
   "cell_type": "code",
   "execution_count": null,
   "metadata": {},
   "outputs": [],
   "source": []
  }
 ],
 "metadata": {
  "kernelspec": {
   "display_name": "Python 3",
   "language": "python",
   "name": "python3"
  },
  "language_info": {
   "codemirror_mode": {
    "name": "ipython",
    "version": 3
   },
   "file_extension": ".py",
   "mimetype": "text/x-python",
   "name": "python",
   "nbconvert_exporter": "python",
   "pygments_lexer": "ipython3",
   "version": "3.7.4"
  }
 },
 "nbformat": 4,
 "nbformat_minor": 2
}
